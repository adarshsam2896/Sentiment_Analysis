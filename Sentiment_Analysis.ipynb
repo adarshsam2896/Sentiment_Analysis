{
 "cells": [
  {
   "cell_type": "code",
   "execution_count": 107,
   "id": "83c7173f",
   "metadata": {},
   "outputs": [
    {
     "name": "stderr",
     "output_type": "stream",
     "text": [
      "[nltk_data] Downloading package stopwords to\n",
      "[nltk_data]     /Users/adarshsam/nltk_data...\n",
      "[nltk_data]   Package stopwords is already up-to-date!\n",
      "[nltk_data] Downloading package wordnet to\n",
      "[nltk_data]     /Users/adarshsam/nltk_data...\n",
      "[nltk_data]   Package wordnet is already up-to-date!\n"
     ]
    }
   ],
   "source": [
    "import numpy as np\n",
    "import pandas as pd\n",
    "from sklearn import preprocessing\n",
    "import re\n",
    "from sklearn.decomposition import TruncatedSVD\n",
    "import nltk\n",
    "nltk.download('stopwords')\n",
    "nltk.download('wordnet')\n",
    "from nltk.corpus import stopwords\n",
    "from nltk.stem import PorterStemmer,SnowballStemmer\n",
    "stemmer = PorterStemmer()\n",
    "st=SnowballStemmer(language='english')\n",
    "from nltk.stem import WordNetLemmatizer\n",
    "lem=WordNetLemmatizer()"
   ]
  },
  {
   "cell_type": "code",
   "execution_count": 108,
   "id": "c8a81f1d",
   "metadata": {},
   "outputs": [],
   "source": [
    "with open(\"data/train.dat\", \"r\") as fh:\n",
    "    lines = fh.readlines() \n",
    "    #print(lines)\n",
    "    "
   ]
  },
  {
   "cell_type": "code",
   "execution_count": 109,
   "id": "4829c57c",
   "metadata": {
    "scrolled": true
   },
   "outputs": [],
   "source": [
    "#(lines[20])"
   ]
  },
  {
   "cell_type": "code",
   "execution_count": 110,
   "id": "2abd96c5",
   "metadata": {},
   "outputs": [],
   "source": [
    "#lines[20].split()"
   ]
  },
  {
   "cell_type": "code",
   "execution_count": 111,
   "id": "93736feb",
   "metadata": {},
   "outputs": [],
   "source": [
    "Y=[]\n",
    "for i in lines:\n",
    "    Y.append(int(i.split()[0]))\n",
    "y=[]\n",
    "for i in Y:\n",
    "    if(i==-1):\n",
    "        y.append(0)\n",
    "    else:\n",
    "        y.append(i)\n",
    "    \n"
   ]
  },
  {
   "cell_type": "code",
   "execution_count": 112,
   "id": "366351f8",
   "metadata": {},
   "outputs": [
    {
     "name": "stdout",
     "output_type": "stream",
     "text": [
      "25000\n"
     ]
    }
   ],
   "source": [
    "print(len(y))"
   ]
  },
  {
   "cell_type": "code",
   "execution_count": 113,
   "id": "413ad2bc",
   "metadata": {},
   "outputs": [],
   "source": [
    "stop_words = stopwords.words('english')"
   ]
  },
  {
   "cell_type": "code",
   "execution_count": 114,
   "id": "555dff51",
   "metadata": {},
   "outputs": [],
   "source": [
    "proc_txt=[]\n",
    "c=[]\n",
    "for review in lines:\n",
    "    review=re.sub('<br />',' ',review)\n",
    "    qm=review.count('?')\n",
    "    c.append(qm)\n",
    "    review=re.sub('[^A-Za-z ]+', '', review.lower())\n",
    "    u=[word for word in review.split() if word not in stop_words]\n",
    "    #if(len(u)>100):\n",
    "    #    u=u[:101]\n",
    "    proc_txt.append(' '.join(u))\n",
    "    #proc_txt.append()\n",
    "    \n",
    "\n",
    "    \n",
    "    \n",
    "    "
   ]
  },
  {
   "cell_type": "code",
   "execution_count": 115,
   "id": "c3059005",
   "metadata": {},
   "outputs": [
    {
     "data": {
      "text/plain": [
       "25000"
      ]
     },
     "execution_count": 115,
     "metadata": {},
     "output_type": "execute_result"
    }
   ],
   "source": [
    "len(c)"
   ]
  },
  {
   "cell_type": "code",
   "execution_count": 116,
   "id": "e7cfdd16",
   "metadata": {},
   "outputs": [],
   "source": [
    "#proc_txt[0]"
   ]
  },
  {
   "cell_type": "code",
   "execution_count": 117,
   "id": "a2a5da00",
   "metadata": {},
   "outputs": [],
   "source": [
    "#proc_txt[0]"
   ]
  },
  {
   "cell_type": "code",
   "execution_count": 118,
   "id": "4a0e9529",
   "metadata": {},
   "outputs": [],
   "source": [
    "from sklearn.feature_extraction.text import TfidfVectorizer,CountVectorizer"
   ]
  },
  {
   "cell_type": "code",
   "execution_count": 119,
   "id": "71676e2a",
   "metadata": {},
   "outputs": [],
   "source": [
    "tfidf = TfidfVectorizer(max_features=20000)"
   ]
  },
  {
   "cell_type": "code",
   "execution_count": 120,
   "id": "33664b79",
   "metadata": {},
   "outputs": [],
   "source": [
    "#import scipy.sparse as sp\n",
    "Doc=tfidf.fit_transform(proc_txt)\n",
    "#Doc=Doc.toarray()\n",
    "#mat=sp.csr_matrix(Doc)"
   ]
  },
  {
   "cell_type": "code",
   "execution_count": 121,
   "id": "fbb23349",
   "metadata": {},
   "outputs": [],
   "source": [
    "#Doc[0,20000-1]=1\n"
   ]
  },
  {
   "cell_type": "code",
   "execution_count": 122,
   "id": "23e58efd",
   "metadata": {},
   "outputs": [],
   "source": [
    "#Doc"
   ]
  },
  {
   "cell_type": "code",
   "execution_count": 123,
   "id": "b2e07790",
   "metadata": {},
   "outputs": [],
   "source": [
    "#Doc[0][20000-1]=1\n",
    "#print(Doc[0][20000-1])\n",
    "#j=0\n",
    "#for i in c:\n",
    "#    Doc[j,20000-1]=i\n",
    "#    j=j+1\n",
    "    "
   ]
  },
  {
   "cell_type": "code",
   "execution_count": 124,
   "id": "5eff0701",
   "metadata": {},
   "outputs": [],
   "source": [
    "#Doc"
   ]
  },
  {
   "cell_type": "code",
   "execution_count": 125,
   "id": "10a3e654",
   "metadata": {},
   "outputs": [],
   "source": [
    "#Doc=Doc.toarray()\n",
    "#print((Doc[0][0:50]))\n",
    "#svd = TruncatedSVD(n_components=200)\n",
    "#Doc=svd.fit_transform(Doc)"
   ]
  },
  {
   "cell_type": "code",
   "execution_count": 126,
   "id": "d1ce6b1c",
   "metadata": {},
   "outputs": [],
   "source": [
    "#Doc1=preprocessing.normalize(Doc,axis=1)"
   ]
  },
  {
   "cell_type": "code",
   "execution_count": 127,
   "id": "41fca462",
   "metadata": {},
   "outputs": [],
   "source": [
    "from sklearn.neighbors import KNeighborsClassifier\n",
    "import numpy as np\n",
    "import pandas as pd\n",
    "from sklearn import svm\n",
    "from sklearn import metrics\n",
    "from sklearn.model_selection import train_test_split\n",
    "from sklearn.linear_model import LinearRegression, Ridge,LogisticRegression\n",
    "from sklearn.model_selection import cross_val_score"
   ]
  },
  {
   "cell_type": "code",
   "execution_count": 128,
   "id": "e3a17bf0",
   "metadata": {},
   "outputs": [],
   "source": [
    "#knn=KNeighborsClassifier(n_neighbors=283,weights='distance')\n",
    "#X_train,X_test,Y_train,Y_test= train_test_split(Doc,y, test_size = 0.2, random_state = 40)\n",
    "\n"
   ]
  },
  {
   "cell_type": "code",
   "execution_count": 129,
   "id": "2ee3de29",
   "metadata": {},
   "outputs": [
    {
     "name": "stdout",
     "output_type": "stream",
     "text": [
      "0.9329\n",
      "0.8956\n"
     ]
    }
   ],
   "source": [
    "#knn.fit(X_train,Y_train)\n",
    "#y_pred=knn.predict(X_test)\n",
    "#print(metrics.accuracy_score(y_pred,Y_test))\n",
    "lr=LogisticRegression(max_iter=1000)\n",
    "score=cross_val_score(lr,Doc,y,cv=10)\n",
    "\n",
    "\n",
    "#lr = svm.SVC(kernel='rbf',C=1)\n",
    "#lr=MultinomialNB().fit(X_train,Y_train)\n",
    "#lr=RandomForestRegressor(n_estimators=5, random_state=42)\n",
    "lr.fit(X_train,Y_train)\n",
    "pred=lr.predict(X_train)\n",
    "ypred=lr.predict(X_test)\n",
    "print(metrics.accuracy_score(Y_train,pred))\n",
    "print(metrics.accuracy_score(Y_test,ypred))\n",
    "#print(score)\n"
   ]
  },
  {
   "cell_type": "code",
   "execution_count": 130,
   "id": "08b9d8e3",
   "metadata": {
    "scrolled": true
   },
   "outputs": [
    {
     "name": "stdout",
     "output_type": "stream",
     "text": [
      "0.8893600000000002\n"
     ]
    }
   ],
   "source": [
    "print(score.mean())"
   ]
  },
  {
   "cell_type": "code",
   "execution_count": null,
   "id": "90533994",
   "metadata": {},
   "outputs": [],
   "source": []
  },
  {
   "cell_type": "code",
   "execution_count": 131,
   "id": "177dc0c7",
   "metadata": {},
   "outputs": [],
   "source": [
    "with open(\"data/test.dat\", \"r\") as fh:\n",
    "    lines1 = fh.readlines() "
   ]
  },
  {
   "cell_type": "code",
   "execution_count": 132,
   "id": "829ef4ff",
   "metadata": {},
   "outputs": [],
   "source": [
    "#lines1[0]"
   ]
  },
  {
   "cell_type": "code",
   "execution_count": 133,
   "id": "b34e59c3",
   "metadata": {},
   "outputs": [],
   "source": [
    "proc_txt_test=[]\n",
    "C=[]\n",
    "for review in lines1:\n",
    "    review=re.sub('<br />',' ',review)\n",
    "    qm=review.count('?')\n",
    "    C.append(qm)\n",
    "    review=re.sub('[^A-Za-z ]+', '', review.lower())\n",
    "    u=[word for word in review.split() if word not in stop_words]\n",
    "    proc_txt_test.append(' '.join(u))\n",
    "\n",
    "Doc_test=tfidf.transform(proc_txt_test)\n",
    "#svd1 = TruncatedSVD(n_components=1000)\n",
    "#Doc_test=svd1.fit_transform(Doc_test)\n",
    "#lr1=LogisticRegression(max_iter=1000)\n",
    "#lr1.fit(Doc1,y)\n",
    "#Doc_test1=preprocessing.normalize(Doc_test,axis=1)\n",
    "#y_pred=knn.predict(Doc_test1)\n"
   ]
  },
  {
   "cell_type": "code",
   "execution_count": 134,
   "id": "50d3645c",
   "metadata": {},
   "outputs": [],
   "source": [
    "#(Doc_test1)\n",
    "#j=0\n",
    "#for i in C:\n",
    "#    Doc_test[j,20000-1]=i\n",
    "#    j=j+1"
   ]
  },
  {
   "cell_type": "code",
   "execution_count": 135,
   "id": "a0387460",
   "metadata": {},
   "outputs": [],
   "source": [
    "#knn_test=KNeighborsClassifier(n_neighbors=227)\n",
    "lr1=LogisticRegression(max_iter=1000)\n",
    "lr1.fit(Doc,y)\n",
    "#lr.fit(Doc,y)\n",
    "y_pred1=lr1.predict(Doc_test)\n",
    "#y_pred1=knn_test.predict(Doc_test1)"
   ]
  },
  {
   "cell_type": "code",
   "execution_count": 136,
   "id": "d70a9372",
   "metadata": {},
   "outputs": [
    {
     "data": {
      "text/plain": [
       "array([1, 1, 1, ..., 1, 1, 0])"
      ]
     },
     "execution_count": 136,
     "metadata": {},
     "output_type": "execute_result"
    }
   ],
   "source": [
    "y_pred1"
   ]
  },
  {
   "cell_type": "code",
   "execution_count": 137,
   "id": "6b2794a7",
   "metadata": {},
   "outputs": [],
   "source": [
    "YPRED=[]\n",
    "for i in y_pred1:\n",
    "    if(i==0):\n",
    "        YPRED.append(-1)\n",
    "    else:\n",
    "        YPRED.append(i)"
   ]
  },
  {
   "cell_type": "code",
   "execution_count": 105,
   "id": "4b0f70b0",
   "metadata": {},
   "outputs": [],
   "source": [
    "txtf=open(\"RESULT_1.txt\",\"w\")\n",
    "for i in YPRED:\n",
    "    if(i==1):\n",
    "        txtf.write('+'+str(i)+\"\\n\")\n",
    "    else:\n",
    "        txtf.write(str(i)+\"\\n\")"
   ]
  },
  {
   "cell_type": "code",
   "execution_count": 106,
   "id": "6818dfea",
   "metadata": {},
   "outputs": [],
   "source": [
    "txtf.close()"
   ]
  },
  {
   "cell_type": "code",
   "execution_count": null,
   "id": "882cca68",
   "metadata": {},
   "outputs": [],
   "source": []
  }
 ],
 "metadata": {
  "kernelspec": {
   "display_name": "Python 3",
   "language": "python",
   "name": "python3"
  },
  "language_info": {
   "codemirror_mode": {
    "name": "ipython",
    "version": 3
   },
   "file_extension": ".py",
   "mimetype": "text/x-python",
   "name": "python",
   "nbconvert_exporter": "python",
   "pygments_lexer": "ipython3",
   "version": "3.8.8"
  }
 },
 "nbformat": 4,
 "nbformat_minor": 5
}
